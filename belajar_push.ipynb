{
 "cells": [
  {
   "cell_type": "code",
   "execution_count": 2,
   "id": "848da6b7",
   "metadata": {},
   "outputs": [
    {
     "data": {
      "text/plain": [
       "10"
      ]
     },
     "execution_count": 2,
     "metadata": {},
     "output_type": "execute_result"
    }
   ],
   "source": [
    "5 * 2"
   ]
  },
  {
   "cell_type": "markdown",
   "id": "12392d96",
   "metadata": {},
   "source": [
    "Nama : Wesley  \n",
    "Batch : RMT 047"
   ]
  },
  {
   "cell_type": "markdown",
   "id": "9c922135",
   "metadata": {},
   "source": [
    "___"
   ]
  },
  {
   "cell_type": "markdown",
   "id": "24faeb96",
   "metadata": {},
   "source": [
    "1. `git clone` -> untuk meng'download' repo tugas\n",
    "2. `cd <ke repo lokal>` -> untuk pindah folder ke repo lokal\n",
    "3. Buat file assignment ATAU pindahkan file assignment ke dalam repo lokal\n",
    "\n",
    "--mulai dari step 4 untuk push lagi jika ada update--\n",
    "\n",
    "4. `git status` -> untuk cek file baru di repo lokal (harusnya warna merah)\n",
    "5. `git add .` -> untuk memasukan file baru tsb ke stage mode\n",
    "6. `git status` -> untuk cek file baru tsb yg sdh di stage mode (harusnya warna hijau)\n",
    "7. `git commit -m \"<message nya apa?>\"` -> untuk memberi keterangan push\n",
    "8. `git push` -> untuk 'upload' file ke repository gitclassroom.\n",
    "9. Cek lagi file di repo git, sudah sesuai dgn yg kita buat atau belum?\n",
    "10. Gunakan `git checkout <code version>` untuk melihat versi tertentu.\n",
    "11. Gunakan `.gitignore` untuk meng-exclude kan file tertentu yang tidak mau dipush."
   ]
  },
  {
   "cell_type": "markdown",
   "id": "aca66f3e",
   "metadata": {},
   "source": [
    "___"
   ]
  },
  {
   "cell_type": "markdown",
   "id": "b2029bec",
   "metadata": {},
   "source": [
    "# Title 1\n",
    "## Title 2\n",
    "### Title 3\n",
    "#### Title 4\n",
    "##### Title 5\n",
    "###### Title 6"
   ]
  },
  {
   "cell_type": "markdown",
   "id": "0a373967",
   "metadata": {},
   "source": [
    "$$ y = 2x + 1 $$"
   ]
  },
  {
   "cell_type": "markdown",
   "id": "8b0ac462",
   "metadata": {},
   "source": [
    "*Lorem ipsum dolor* **sit amet, consectetur** ***adipiscing elit.***"
   ]
  },
  {
   "cell_type": "markdown",
   "id": "33edabd6",
   "metadata": {},
   "source": [
    "Ini fungsi python\n",
    "\n",
    "```py\n",
    "def function(x):\n",
    "    y  = 2*x + 1\n",
    "    return y\n",
    "```"
   ]
  },
  {
   "cell_type": "markdown",
   "id": "96b5816e",
   "metadata": {},
   "source": [
    "# ini buah\n",
    "- semangka\n",
    "    - semangka indo\n",
    "    - semangka dubai\n",
    "- jeruk\n",
    "    - jeruk mandarin\n",
    "    - jeruk hawaii\n",
    "- melon\n",
    "    - melon cina\n",
    "    - melon jepang"
   ]
  },
  {
   "cell_type": "markdown",
   "id": "5b742f03",
   "metadata": {},
   "source": []
  }
 ],
 "metadata": {
  "kernelspec": {
   "display_name": "base",
   "language": "python",
   "name": "python3"
  },
  "language_info": {
   "codemirror_mode": {
    "name": "ipython",
    "version": 3
   },
   "file_extension": ".py",
   "mimetype": "text/x-python",
   "name": "python",
   "nbconvert_exporter": "python",
   "pygments_lexer": "ipython3",
   "version": "3.12.4"
  }
 },
 "nbformat": 4,
 "nbformat_minor": 5
}
